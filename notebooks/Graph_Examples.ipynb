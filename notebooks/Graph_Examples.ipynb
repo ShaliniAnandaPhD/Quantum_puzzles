{
 "cells": [
  {
   "cell_type": "markdown",
   "metadata": {},
   "source": [
    "## Get data for example devices"
   ]
  },
  {
   "cell_type": "code",
   "execution_count": null,
   "metadata": {
    "collapsed": true
   },
   "outputs": [],
   "source": [
    "import sys\n",
    "sys.path.append(\"../\")\n",
    "from devices import supportedDevices, getLayout\n",
    "from QuantumAwesomeness import *"
   ]
  },
  {
   "cell_type": "code",
   "execution_count": null,
   "metadata": {
    "scrolled": false
   },
   "outputs": [],
   "source": [
    "num_for_type = {'line':[5,11,15,19],'ladder':[4,10,16,20],'square':[4,9,16],'web':[5,11,16,19]}\n",
    "\n",
    "for device_type in num_for_type.keys():\n",
    "\n",
    "    devices = []\n",
    "    for n in num_for_type[device_type]:\n",
    "        devices.append( device_type + str(n) )\n",
    "                \n",
    "    PlotGraphSet ( devices, [True] )"
   ]
  },
  {
   "cell_type": "code",
   "execution_count": null,
   "metadata": {
    "collapsed": true
   },
   "outputs": [],
   "source": []
  }
 ],
 "metadata": {
  "kernelspec": {
   "display_name": "Python 3",
   "language": "python",
   "name": "python3"
  },
  "language_info": {
   "codemirror_mode": {
    "name": "ipython",
    "version": 3
   },
   "file_extension": ".py",
   "mimetype": "text/x-python",
   "name": "python",
   "nbconvert_exporter": "python",
   "pygments_lexer": "ipython3",
   "version": "3.6.0"
  }
 },
 "nbformat": 4,
 "nbformat_minor": 2
}
